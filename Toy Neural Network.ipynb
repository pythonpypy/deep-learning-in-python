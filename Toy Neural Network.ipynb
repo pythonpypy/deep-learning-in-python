{
 "cells": [
  {
   "cell_type": "markdown",
   "metadata": {},
   "source": [
    "#### Dependencies"
   ]
  },
  {
   "cell_type": "code",
   "execution_count": 1,
   "metadata": {},
   "outputs": [],
   "source": [
    "import numpy as np"
   ]
  },
  {
   "cell_type": "markdown",
   "metadata": {},
   "source": [
    "#### Input Dataset"
   ]
  },
  {
   "cell_type": "code",
   "execution_count": 2,
   "metadata": {},
   "outputs": [],
   "source": [
    "X = np.array([[0,0,1],\n",
    "              [0,1,1],\n",
    "              [1,0,1],\n",
    "              [1,1,1]])"
   ]
  },
  {
   "cell_type": "markdown",
   "metadata": {},
   "source": [
    "#### Target output"
   ]
  },
  {
   "cell_type": "code",
   "execution_count": 3,
   "metadata": {},
   "outputs": [],
   "source": [
    "y = np.array([[0,1,1,0]]).T\n"
   ]
  },
  {
   "cell_type": "markdown",
   "metadata": {},
   "source": [
    "### Neural Network architecture\n",
    "\n",
    "#### layer1 = L0\n",
    "#### layer2 = L1\n",
    "#### layer3 = L2"
   ]
  },
  {
   "cell_type": "markdown",
   "metadata": {},
   "source": [
    "\n",
    "![Image of NN architecture](https://cdn-images-1.medium.com/max/1000/1*kA1fcHpG4ZvdHzVZ_UuKyA.png)"
   ]
  },
  {
   "cell_type": "markdown",
   "metadata": {},
   "source": [
    "####  Initialise Weight Matrices for layer 1 and layer 2"
   ]
  },
  {
   "cell_type": "code",
   "execution_count": 4,
   "metadata": {},
   "outputs": [],
   "source": [
    "\n",
    "np.random.seed(1)\n",
    "w_L0_2_L1 = 2 * np.random.random((3, 4)) -1\n",
    "w_L1_2_L2  = 2 * np.random.random((4,1)) - 1"
   ]
  },
  {
   "cell_type": "markdown",
   "metadata": {},
   "source": [
    "#### Define NonLinearity (Activation Function) and its Derivative"
   ]
  },
  {
   "cell_type": "code",
   "execution_count": 5,
   "metadata": {},
   "outputs": [],
   "source": [
    "def sigmoid(x):\n",
    "    return 1 / (1 + np.exp(-x))\n",
    "def sigmoid_derivative(x):\n",
    "    return x * (1 - x)"
   ]
  },
  {
   "cell_type": "markdown",
   "metadata": {},
   "source": [
    "#### Training code to Optimize Network on the Dataset"
   ]
  },
  {
   "cell_type": "code",
   "execution_count": 6,
   "metadata": {},
   "outputs": [
    {
     "name": "stdout",
     "output_type": "stream",
     "text": [
      "Training Error : 0.0085850250975033 at Epoch 10000\n",
      "Training Error : 0.0057896210643503185 at Epoch 20000\n",
      "Training Error : 0.004629261152181438 at Epoch 30000\n",
      "Training Error : 0.003958818824398139 at Epoch 40000\n",
      "Training Error : 0.0035101602765980986 at Epoch 50000\n",
      "Training Error : 0.00318353073559491 at Epoch 60000\n",
      "\n",
      "\n",
      " Accuracy : \n",
      "[[0.00260572]\n",
      " [0.99672209]\n",
      " [0.99701711]\n",
      " [0.00386759]]\n",
      " after \n",
      "60000 Epochs\n"
     ]
    }
   ],
   "source": [
    "for i in range(1,60001):\n",
    "    \n",
    "    #forward pass:\n",
    "    l0 = X\n",
    "    \n",
    "    l1 = sigmoid(np.dot(l0, w_L0_2_L1))\n",
    "    \n",
    "    l2 = sigmoid(np.dot(l1, w_L1_2_L2))\n",
    "   \n",
    "\n",
    "\n",
    "    #calculate network error\n",
    "    \n",
    "    l2_error = y - l2 \n",
    "    \n",
    "    \n",
    "    if i % 10000 == 0:\n",
    "        \n",
    "        print(\"Training Error : {} at Epoch {}\".format(np.mean(np.abs(l2_error)),i))\n",
    "    \n",
    "    # Backward pass:\n",
    "    \n",
    "    # update the non- confident predictions and mute the confident predictions \n",
    "    \n",
    "    l2_delta = l2_error * sigmoid_derivative(l2)\n",
    "    \n",
    "    # the error contribution of l1 on l2\n",
    "    \n",
    "    l1_error = l2_delta.dot(w_L1_2_L2.T)\n",
    "    \n",
    "    # update the non- confident predictions and mute the confident predictions\n",
    "        \n",
    "    l1_delta = l1_error * sigmoid_derivative(l1)\n",
    "    \n",
    "    #Update weight matrices \n",
    "    \n",
    "    w_L1_2_L2 +=  l1.T.dot(l2_delta)\n",
    "    \n",
    "    w_L0_2_L1 +=  l0.T.dot(l1_delta)\n",
    "print(\"\\n\")   \n",
    "print(\" Accuracy : \",l2 , \" after \",str(i)+\" Epochs\",sep =\"\\n\")"
   ]
  },
  {
   "cell_type": "code",
   "execution_count": 7,
   "metadata": {},
   "outputs": [
    {
     "name": "stdout",
     "output_type": "stream",
     "text": [
      "Target Output : \n",
      "[[0]\n",
      " [1]\n",
      " [1]\n",
      " [0]]\n",
      "actual output: \n",
      "[[0.00260572]\n",
      " [0.99672209]\n",
      " [0.99701711]\n",
      " [0.00386759]]\n"
     ]
    }
   ],
   "source": [
    "l2 = str(l2)\n",
    "print(\"Target Output : \",  y, \"actual output: \", l2,sep =\"\\n\")"
   ]
  },
  {
   "cell_type": "code",
   "execution_count": null,
   "metadata": {},
   "outputs": [],
   "source": []
  }
 ],
 "metadata": {
  "kernelspec": {
   "display_name": "Python 3",
   "language": "python",
   "name": "python3"
  },
  "language_info": {
   "codemirror_mode": {
    "name": "ipython",
    "version": 3
   },
   "file_extension": ".py",
   "mimetype": "text/x-python",
   "name": "python",
   "nbconvert_exporter": "python",
   "pygments_lexer": "ipython3",
   "version": "3.6.5"
  }
 },
 "nbformat": 4,
 "nbformat_minor": 2
}
